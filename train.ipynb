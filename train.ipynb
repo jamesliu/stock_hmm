{
 "cells": [
  {
   "cell_type": "code",
   "execution_count": 34,
   "metadata": {
    "ExecuteTime": {
     "end_time": "2017-12-29T05:26:18.955353Z",
     "start_time": "2017-12-29T05:26:18.950582Z"
    }
   },
   "outputs": [],
   "source": [
    "from collections import Counter\n",
    "import numpy as np\n",
    "import pandas as pd\n",
    "import pickle\n",
    "\n",
    "from sklearn import svm, model_selection, neighbors\n",
    "from sklearn.ensemble import VotingClassifier, RandomForestClassifier"
   ]
  },
  {
   "cell_type": "code",
   "execution_count": 35,
   "metadata": {
    "ExecuteTime": {
     "end_time": "2017-12-29T05:26:19.370857Z",
     "start_time": "2017-12-29T05:26:19.164057Z"
    }
   },
   "outputs": [
    {
     "name": "stdout",
     "output_type": "stream",
     "text": [
      "df shape (4527, 57)\n",
      "df null shape (4527, 57)\n",
      "nan 0\n",
      "Data spred: Counter({'0': 2020, '1': 1377, '-1': 1130})\n",
      "df shape (4527, 58)\n",
      "df_val shape (4527, 50)\n",
      "X shape (4527, 50)\n",
      "y shape (4527,)\n"
     ]
    }
   ],
   "source": [
    "%run features_extraction.ipynb"
   ]
  },
  {
   "cell_type": "code",
   "execution_count": 36,
   "metadata": {
    "ExecuteTime": {
     "end_time": "2017-12-29T05:26:19.381265Z",
     "start_time": "2017-12-29T05:26:19.372698Z"
    },
    "collapsed": true
   },
   "outputs": [],
   "source": [
    "def do_ml0(ticker):\n",
    "    X, y, df = extract_featuresets(ticker)\n",
    "    X_train, X_test, y_train, y_test = model_selection.train_test_split(X, y, test_size=0.25)\n",
    "    \n",
    "    clf = neighbors.KNeighborsClassifier()\n",
    "    clf.fit(X_train, y_train)\n",
    "    confidence = clf.score(X_test, y_test)\n",
    "    print('Accuracy', confidence)\n",
    "    predictions = clf.predict(X_test)\n",
    "    print('Predicted spread:', Counter(predictions))"
   ]
  },
  {
   "cell_type": "code",
   "execution_count": 37,
   "metadata": {
    "ExecuteTime": {
     "end_time": "2017-12-29T05:26:20.246985Z",
     "start_time": "2017-12-29T05:26:19.558655Z"
    }
   },
   "outputs": [
    {
     "name": "stdout",
     "output_type": "stream",
     "text": [
      "Data spred: Counter({'0': 2020, '1': 1377, '-1': 1130})\n",
      "df shape (4527, 58)\n",
      "df_val shape (4527, 50)\n",
      "Accuracy 0.4425795053\n",
      "Predicted spread: Counter({0: 842, -1: 163, 1: 127})\n"
     ]
    }
   ],
   "source": [
    "do_ml('AMZN')"
   ]
  },
  {
   "cell_type": "code",
   "execution_count": 38,
   "metadata": {
    "ExecuteTime": {
     "end_time": "2017-12-29T05:26:20.260317Z",
     "start_time": "2017-12-29T05:26:20.248974Z"
    },
    "collapsed": true
   },
   "outputs": [],
   "source": [
    "def do_ml1(ticker):\n",
    "    X, y, df = extract_featuresets(ticker)\n",
    "    X_train, X_test, y_train, y_test = model_selection.train_test_split(X, y, test_size=0.25)\n",
    "    \n",
    "    clf = VotingClassifier([('lsvc', svm.LinearSVC()),\n",
    "                           ('knn', neighbors.KNeighborsClassifier()),\n",
    "                           ('rfor', RandomForestClassifier())])\n",
    "    clf.fit(X_train, y_train)\n",
    "    confidence = clf.score(X_test, y_test)\n",
    "    print('Accuracy', confidence)\n",
    "    predictions = clf.predict(X_test)\n",
    "    print('Predicted spread:', Counter(predictions))"
   ]
  },
  {
   "cell_type": "code",
   "execution_count": 39,
   "metadata": {
    "ExecuteTime": {
     "end_time": "2017-12-29T05:26:21.282346Z",
     "start_time": "2017-12-29T05:26:20.300097Z"
    }
   },
   "outputs": [
    {
     "name": "stdout",
     "output_type": "stream",
     "text": [
      "Data spred: Counter({'0': 2020, '1': 1377, '-1': 1130})\n",
      "df shape (4527, 58)\n",
      "df_val shape (4527, 50)\n",
      "Accuracy 0.492049469965\n",
      "Predicted spread: Counter({0: 914, -1: 166, 1: 52})\n"
     ]
    }
   ],
   "source": [
    "do_ml1('AMZN')"
   ]
  }
 ],
 "metadata": {
  "kernelspec": {
   "display_name": "Python [conda env:g]",
   "language": "python",
   "name": "conda-env-g-py"
  },
  "language_info": {
   "codemirror_mode": {
    "name": "ipython",
    "version": 3
   },
   "file_extension": ".py",
   "mimetype": "text/x-python",
   "name": "python",
   "nbconvert_exporter": "python",
   "pygments_lexer": "ipython3",
   "version": "3.6.3"
  }
 },
 "nbformat": 4,
 "nbformat_minor": 2
}
