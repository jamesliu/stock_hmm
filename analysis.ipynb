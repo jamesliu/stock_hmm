{
 "cells": [
  {
   "cell_type": "code",
   "execution_count": 7,
   "metadata": {
    "ExecuteTime": {
     "end_time": "2018-01-17T04:54:12.098307Z",
     "start_time": "2018-01-17T04:54:10.474514Z"
    },
    "collapsed": true
   },
   "outputs": [],
   "source": [
    "#%matplotlib inline \n",
    "import datetime as dt\n",
    "import numpy as np\n",
    "import matplotlib.pyplot as plt\n",
    "from matplotlib import style\n",
    "import matplotlib.dates as mdates\n",
    "import pandas as pd\n",
    "import pandas_datareader.data as web\n",
    "import hmmlearn.hmm  as hmm\n",
    "import warnings\n",
    "style.use('ggplot')\n",
    "\n",
    "warnings.filterwarnings('ignore')\n",
    "start = dt.datetime(2010, 1, 1)\n",
    "end = dt.datetime(2017, 12, 25)\n",
    "\n",
    "df = web.DataReader('AAPL', 'yahoo', start, end)#.reset_index()"
   ]
  },
  {
   "cell_type": "code",
   "execution_count": 8,
   "metadata": {
    "ExecuteTime": {
     "end_time": "2018-01-17T04:54:12.162163Z",
     "start_time": "2018-01-17T04:54:12.151466Z"
    }
   },
   "outputs": [
    {
     "name": "stdout",
     "output_type": "stream",
     "text": [
      "Open         0\n",
      "High         0\n",
      "Low          0\n",
      "Close        0\n",
      "Adj Close    0\n",
      "Volume       0\n",
      "100ma        0\n",
      "dtype: int64\n"
     ]
    }
   ],
   "source": [
    "df['100ma'] = df['Adj Close'].rolling(window=100, min_periods=0).mean()\n",
    "#df.dropna(inplace=True)\n",
    "# check missing\n",
    "df.count()\n",
    "num_rows = df.shape[0]\n",
    "num_missing = num_rows - df.count()\n",
    "print(num_missing)"
   ]
  },
  {
   "cell_type": "markdown",
   "metadata": {},
   "source": [
    "## Resample"
   ]
  },
  {
   "cell_type": "code",
   "execution_count": 9,
   "metadata": {
    "ExecuteTime": {
     "end_time": "2018-01-17T04:54:12.229696Z",
     "start_time": "2018-01-17T04:54:12.215249Z"
    },
    "collapsed": true
   },
   "outputs": [],
   "source": [
    "df_ohlc = df['Adj Close'].resample('10D').ohlc()\n",
    "df_volume = df['Volume'].resample('10D').sum()\n",
    "df_ohlc.reset_index(inplace=True)\n",
    "df_ohlc['Date'] = df_ohlc['Date'].map(mdates.date2num)"
   ]
  },
  {
   "cell_type": "code",
   "execution_count": 10,
   "metadata": {
    "ExecuteTime": {
     "end_time": "2018-01-17T04:54:12.707791Z",
     "start_time": "2018-01-17T04:54:12.695441Z"
    }
   },
   "outputs": [
    {
     "data": {
      "text/plain": [
       "Float64Index([733776.0, 733786.0, 733796.0, 733806.0, 733816.0, 733826.0,\n",
       "              733836.0, 733846.0, 733856.0, 733866.0,\n",
       "              ...\n",
       "              736596.0, 736606.0, 736616.0, 736626.0, 736636.0, 736646.0,\n",
       "              736656.0, 736666.0, 736676.0, 736686.0],\n",
       "             dtype='float64', name='Date', length=292)"
      ]
     },
     "execution_count": 10,
     "metadata": {},
     "output_type": "execute_result"
    }
   ],
   "source": [
    "df_volume.index.map(mdates.date2num)"
   ]
  },
  {
   "cell_type": "code",
   "execution_count": 12,
   "metadata": {
    "ExecuteTime": {
     "end_time": "2018-01-17T04:55:19.170274Z",
     "start_time": "2018-01-17T04:55:15.261551Z"
    }
   },
   "outputs": [
    {
     "data": {
      "text/plain": [
       "<matplotlib.collections.PolyCollection at 0x1a276fa9b0>"
      ]
     },
     "execution_count": 12,
     "metadata": {},
     "output_type": "execute_result"
    },
    {
     "data": {
      "image/png": "[encoded data removed]",
      "text/plain": [
       "<matplotlib.figure.Figure at 0x1a27632438>"
      ]
     },
     "metadata": {},
     "output_type": "display_data"
    }
   ],
   "source": [
    "%matplotlib inline\n",
    "ax1 =  plt.subplot2grid((6,1), (0,0), rowspan=5, colspan=1)\n",
    "ax2 =  plt.subplot2grid((6,1), (5,0), rowspan=1, colspan=1, sharex=ax1)\n",
    "\n",
    "ax1.plot(df.index, df['Adj Close'])\n",
    "ax1.plot(df.index, df['100ma'])\n",
    "ax1.xaxis_date()\n",
    "ax2.bar(df.index, df['Volume'])\n",
    "ax2.fill_between(df_volume.index.map(mdates.date2num), df_volume.values, 0)"
   ]
  },
  {
   "cell_type": "code",
   "execution_count": null,
   "metadata": {
    "collapsed": true
   },
   "outputs": [],
   "source": []
  }
 ],
 "metadata": {
  "kernelspec": {
   "display_name": "Python [conda env:g]",
   "language": "python",
   "name": "conda-env-g-py"
  },
  "language_info": {
   "codemirror_mode": {
    "name": "ipython",
    "version": 3
   },
   "file_extension": ".py",
   "mimetype": "text/x-python",
   "name": "python",
   "nbconvert_exporter": "python",
   "pygments_lexer": "ipython3",
   "version": "3.6.3"
  }
 },
 "nbformat": 4,
 "nbformat_minor": 2
}
