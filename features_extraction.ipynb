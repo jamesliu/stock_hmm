{
 "cells": [
  {
   "cell_type": "code",
   "execution_count": 57,
   "metadata": {
    "ExecuteTime": {
     "end_time": "2017-12-29T04:28:38.794396Z",
     "start_time": "2017-12-29T04:28:38.791219Z"
    },
    "collapsed": true
   },
   "outputs": [],
   "source": [
    "import numpy as np\n",
    "import pandas as pd\n",
    "import pickle\n",
    "from collections import Counter"
   ]
  },
  {
   "cell_type": "code",
   "execution_count": 50,
   "metadata": {
    "ExecuteTime": {
     "end_time": "2017-12-29T03:50:18.241380Z",
     "start_time": "2017-12-29T03:50:18.232835Z"
    },
    "collapsed": true
   },
   "outputs": [],
   "source": [
    "def process_data_for_labels(ticker):\n",
    "    hm_days=7\n",
    "    df = pd.read_csv('sp500_joined_closes.csv', index_col=0)\n",
    "    tickers = df.columns.values.tolist()\n",
    "    #print(tickers)\n",
    "    df.fillna(0, inplace=True)\n",
    "    for i in range(1, hm_days + 1):\n",
    "        df['{}_{}d'.format(ticker, i)] = (df[ticker].shift(-i) - df[ticker]) / df[ticker] \n",
    "    df.fillna(0, inplace=True)\n",
    "    return tickers, df"
   ]
  },
  {
   "cell_type": "code",
   "execution_count": 51,
   "metadata": {
    "ExecuteTime": {
     "end_time": "2017-12-29T03:50:18.932616Z",
     "start_time": "2017-12-29T03:50:18.864346Z"
    }
   },
   "outputs": [
    {
     "name": "stdout",
     "output_type": "stream",
     "text": [
      "df shape (4527, 57)\n",
      "df null shape (4527, 57)\n",
      "nan 0\n"
     ]
    }
   ],
   "source": [
    "tickers, df = process_data_for_labels('AMZN')\n",
    "print('df shape', df.shape)\n",
    "print('df null shape', df.isnull().shape)\n",
    "df.head(n=3)\n",
    "df.count()\n",
    "print('nan', np.count_nonzero(df.isnull()))"
   ]
  },
  {
   "cell_type": "code",
   "execution_count": 100,
   "metadata": {
    "ExecuteTime": {
     "end_time": "2017-12-29T05:26:13.965946Z",
     "start_time": "2017-12-29T05:26:13.959269Z"
    },
    "collapsed": true
   },
   "outputs": [],
   "source": [
    "def buy_sell_hold(*args):\n",
    "    cols = [c for c in args]\n",
    "    requirement = 0.03\n",
    "    for col in cols:\n",
    "        if col > requirement:\n",
    "            return 1\n",
    "        if col < -requirement:\n",
    "            return -1\n",
    "    return 0\n",
    "    "
   ]
  },
  {
   "cell_type": "code",
   "execution_count": 98,
   "metadata": {
    "ExecuteTime": {
     "end_time": "2017-12-29T05:24:56.743862Z",
     "start_time": "2017-12-29T05:24:56.714906Z"
    },
    "collapsed": true
   },
   "outputs": [],
   "source": [
    "def extract_featuresets(ticker):\n",
    "    tickers, df = process_data_for_labels(ticker)\n",
    "    diff_1to7d= [df['{}_{}d'.format(ticker,i)] for i in range(1,8)]\n",
    "    df['{}_target'.format(ticker)] = list(map(buy_sell_hold, * diff_1to7d))\n",
    "    \n",
    "    vals = df['{}_target'.format(ticker)].values.tolist()\n",
    "    str_vals =[str(i) for i in vals]\n",
    "    print('Data spred:', Counter(str_vals))\n",
    "    df.fillna(0, inplace = True)\n",
    "    df = df.replace([np.inf, -np.inf], np.nan)\n",
    "    df.dropna(inplace=True)\n",
    "    \n",
    "    print('df shape', df.shape)\n",
    "    df_vals = df[[ticker for ticker in tickers]].pct_change()\n",
    "    print('df_val shape', df_vals.shape)\n",
    "    df_vals=df_vals.replace([np.inf, -np.inf], 0)\n",
    "    df_vals.fillna(0, inplace=True)\n",
    "    \n",
    "    X = df_vals.values\n",
    "    y = df['{}_target'.format(ticker)].values\n",
    "    return X, y, df"
   ]
  },
  {
   "cell_type": "code",
   "execution_count": 99,
   "metadata": {
    "ExecuteTime": {
     "end_time": "2017-12-29T05:24:57.356261Z",
     "start_time": "2017-12-29T05:24:57.257601Z"
    }
   },
   "outputs": [
    {
     "name": "stdout",
     "output_type": "stream",
     "text": [
      "Data spred: Counter({'1': 1944, '-1': 1671, '0': 912})\n",
      "df shape (4527, 58)\n",
      "df_val shape (4527, 50)\n",
      "X shape (4527, 50)\n",
      "y shape (4527,)\n"
     ]
    }
   ],
   "source": [
    "X, y, df = extract_featuresets('AMZN')\n",
    "print('X shape', X.shape)\n",
    "print('y shape', y.shape)"
   ]
  },
  {
   "cell_type": "code",
   "execution_count": 86,
   "metadata": {
    "ExecuteTime": {
     "end_time": "2017-12-29T04:56:37.964090Z",
     "start_time": "2017-12-29T04:56:37.958300Z"
    }
   },
   "outputs": [
    {
     "name": "stdout",
     "output_type": "stream",
     "text": [
      "args [1]\n",
      "args [2]\n"
     ]
    },
    {
     "data": {
      "text/plain": [
       "[1, 1]"
      ]
     },
     "execution_count": 86,
     "metadata": {},
     "output_type": "execute_result"
    }
   ],
   "source": [
    "list(map(buy_sell_hold, [1,2]))"
   ]
  },
  {
   "cell_type": "code",
   "execution_count": null,
   "metadata": {
    "collapsed": true
   },
   "outputs": [],
   "source": []
  }
 ],
 "metadata": {
  "kernelspec": {
   "display_name": "Python [conda env:g]",
   "language": "python",
   "name": "conda-env-g-py"
  },
  "language_info": {
   "codemirror_mode": {
    "name": "ipython",
    "version": 3
   },
   "file_extension": ".py",
   "mimetype": "text/x-python",
   "name": "python",
   "nbconvert_exporter": "python",
   "pygments_lexer": "ipython3",
   "version": "3.6.3"
  }
 },
 "nbformat": 4,
 "nbformat_minor": 2
}
